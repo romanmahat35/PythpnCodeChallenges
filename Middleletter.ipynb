{
 "cells": [
  {
   "cell_type": "code",
   "execution_count": 1,
   "metadata": {},
   "outputs": [
    {
     "data": {
      "text/plain": [
       "'m'"
      ]
     },
     "execution_count": 1,
     "metadata": {},
     "output_type": "execute_result"
    }
   ],
   "source": [
    "#Middle letter\n",
    "\n",
    "#Write a function named mid that takes a string as its parameter.\n",
    "#Your function should extract and return the middle letter. \n",
    "# If there is no middle letter, your function should return the empty string.\n",
    "\n",
    "def mid(x):\n",
    "    if len(x)%2 == 0:\n",
    "        return \"\"\n",
    "    else:\n",
    "        return x[(len(x)//2)]\n",
    "    \n",
    "mid(\"Roman\")"
   ]
  }
 ],
 "metadata": {
  "kernelspec": {
   "display_name": "Python 3",
   "language": "python",
   "name": "python3"
  },
  "language_info": {
   "codemirror_mode": {
    "name": "ipython",
    "version": 3
   },
   "file_extension": ".py",
   "mimetype": "text/x-python",
   "name": "python",
   "nbconvert_exporter": "python",
   "pygments_lexer": "ipython3",
   "version": "3.11.3"
  },
  "orig_nbformat": 4
 },
 "nbformat": 4,
 "nbformat_minor": 2
}
